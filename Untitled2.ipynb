{
 "cells": [
  {
   "cell_type": "code",
   "execution_count": 3,
   "metadata": {},
   "outputs": [
    {
     "ename": "SyntaxError",
     "evalue": "EOL while scanning string literal (<ipython-input-3-eb7c260247be>, line 19)",
     "output_type": "error",
     "traceback": [
      "\u001b[0;36m  File \u001b[0;32m\"<ipython-input-3-eb7c260247be>\"\u001b[0;36m, line \u001b[0;32m19\u001b[0m\n\u001b[0;31m    {\"DecodeJpeg/contents:0': image_data})\u001b[0m\n\u001b[0m                                          ^\u001b[0m\n\u001b[0;31mSyntaxError\u001b[0m\u001b[0;31m:\u001b[0m EOL while scanning string literal\n"
     ]
    }
   ],
   "source": [
    "import tensorflow as tf, sys\n",
    "\n",
    "image_path = sys.argv[1]\n",
    "\n",
    "image_data = tf.gfile.FastGFile(image_path, 'rb').read()\n",
    "\n",
    "label_lines = [line.rstrip() for line\n",
    "               in tf.gfile.GFile(\"/tf_files/retrained_labels.txt\")]\n",
    "\n",
    "with tf.gfile. FastGFile(\"/tf_files/retrained_graph.pb\",'rb') as f:\n",
    "    graph_def+ tf.GraphDef()\n",
    "    graph_def.ParseFromString(f.read())\n",
    "    _ = tf.import_graph_def(graph_def, name='')\n",
    "\n",
    "with tf_session() as sess:\n",
    "    \n",
    "    softmax_tensor = sess.graph.get_tensor_by_name('final_result:0')\n",
    "    predictions = sess.run(softmax_tensor, \\\n",
    "                          {\"DecodeJpeg/contents:0': image_data})\n",
    "top_k = predictions[0].argsort()[-len(predictions[0]):][::-1]\n",
    " for node_id in top_k:\n",
    "                           human_string = label_lines[node_id]\n",
    "                           score = predictions[0][node_id]\n",
    "                           print('%s (score=%.5f)'%(human_string,score))"
   ]
  },
  {
   "cell_type": "code",
   "execution_count": null,
   "metadata": {},
   "outputs": [],
   "source": []
  }
 ],
 "metadata": {
  "kernelspec": {
   "display_name": "Python 3",
   "language": "python",
   "name": "python3"
  },
  "language_info": {
   "codemirror_mode": {
    "name": "ipython",
    "version": 3
   },
   "file_extension": ".py",
   "mimetype": "text/x-python",
   "name": "python",
   "nbconvert_exporter": "python",
   "pygments_lexer": "ipython3",
   "version": "3.7.1"
  }
 },
 "nbformat": 4,
 "nbformat_minor": 2
}

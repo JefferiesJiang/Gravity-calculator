{
 "cells": [
  {
   "cell_type": "code",
   "execution_count": 13,
   "metadata": {},
   "outputs": [
    {
     "name": "stdout",
     "output_type": "stream",
     "text": [
      "mass of object 19\n",
      "mass of object 29\n",
      "radius9\n"
     ]
    },
    {
     "data": {
      "text/plain": [
       "5.4027e-09"
      ]
     },
     "execution_count": 13,
     "metadata": {},
     "output_type": "execute_result"
    }
   ],
   "source": [
    "\n",
    "\n",
    "massone = input(\"mass of object 1\")\n",
    "masstwo = input(\"mass of object 2\")\n",
    "radius = input(\"radius\")\n",
    "\n",
    "def gravity(o,t,r):\n",
    " return (o*t)/r*r*6.67e-11\n",
    "\n",
    "massone = int(massone)\n",
    "masstwo = int(masstwo)\n",
    "radius = int(radius)\n",
    "\n",
    "gravity(massone,masstwo,radius)"
   ]
  },
  {
   "cell_type": "code",
   "execution_count": null,
   "metadata": {},
   "outputs": [],
   "source": []
  }
 ],
 "metadata": {
  "kernelspec": {
   "display_name": "Python 3",
   "language": "python",
   "name": "python3"
  },
  "language_info": {
   "codemirror_mode": {
    "name": "ipython",
    "version": 3
   },
   "file_extension": ".py",
   "mimetype": "text/x-python",
   "name": "python",
   "nbconvert_exporter": "python",
   "pygments_lexer": "ipython3",
   "version": "3.7.1"
  }
 },
 "nbformat": 4,
 "nbformat_minor": 2
}
